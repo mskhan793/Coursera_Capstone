{
 "cells": [
  {
   "cell_type": "markdown",
   "metadata": {},
   "source": [
    "Create a new repository on your Github account and name it Coursera_Capstone. I have prepared a guide to walk you through the process of creating a repository and setting it up. For Mac users, click here. For Windows users, click here.\n",
    "\n",
    "Now, start a Jupyter Notebook using any platform that you are comfortable with and do the following:\n",
    "\n",
    "Write some markdown to explain that this notebook will be mainly used for the capstone project.\n",
    "Import the pandas library as pd.\n",
    "Import the Numpy library as np.\n",
    "Print the following the statement: Hello Capstone Project Course!\n",
    "Push the Notebook to your Github repository and submit a link to the notebook on your Github repository."
   ]
  },
  {
   "cell_type": "markdown",
   "metadata": {},
   "source": [
    "This notebook will be mainly used for the capstone project. A Github repository Coursera_Capstone is Created under my Github account sure1704"
   ]
  },
  {
   "cell_type": "code",
   "execution_count": 1,
   "metadata": {},
   "outputs": [],
   "source": [
    "import pandas as pd"
   ]
  },
  {
   "cell_type": "code",
   "execution_count": null,
   "metadata": {},
   "outputs": [],
   "source": [
    "import numpy as np"
   ]
  },
  {
   "cell_type": "code",
   "execution_count": 3,
   "metadata": {},
   "outputs": [
    {
     "name": "stdout",
     "output_type": "stream",
     "text": [
      "Hello Capstone Project Course!\n"
     ]
    }
   ],
   "source": [
    "print(\"Hello Capstone Project Course!\")"
   ]
  },
  {
   "cell_type": "code",
   "execution_count": null,
   "metadata": {},
   "outputs": [],
   "source": []
  }
 ],
 "metadata": {
  "kernelspec": {
   "display_name": "Python",
   "language": "python",
   "name": "conda-env-python-py"
  },
  "language_info": {
   "codemirror_mode": {
    "name": "ipython",
    "version": 3
   },
   "file_extension": ".py",
   "mimetype": "text/x-python",
   "name": "python",
   "nbconvert_exporter": "python",
   "pygments_lexer": "ipython3",
   "version": "3.6.10"
  }
 },
 "nbformat": 4,
 "nbformat_minor": 4
}
